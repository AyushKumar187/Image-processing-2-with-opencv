{
 "cells": [
  {
   "cell_type": "code",
   "execution_count": 1,
   "id": "586114c6",
   "metadata": {},
   "outputs": [
    {
     "name": "stdout",
     "output_type": "stream",
     "text": [
      "Requirement already satisfied: opencv-python in d:\\downloads\\lib\\site-packages (4.7.0.72)\n",
      "Requirement already satisfied: numpy>=1.17.3 in d:\\downloads\\lib\\site-packages (from opencv-python) (1.21.5)\n",
      "Note: you may need to restart the kernel to use updated packages.\n"
     ]
    }
   ],
   "source": [
    "pip install opencv-python"
   ]
  },
  {
   "cell_type": "code",
   "execution_count": 3,
   "id": "92959f9b",
   "metadata": {},
   "outputs": [
    {
     "name": "stdout",
     "output_type": "stream",
     "text": [
      "(1390, 1300, 3)\n",
      "Top left [ 35   0 145]\n",
      "Top right [ 36   0 148]\n",
      "Bottom Left [ 36   0 148]\n",
      "Bottom right [ 11  24 206]\n"
     ]
    },
    {
     "ename": "error",
     "evalue": "OpenCV(4.7.0) D:\\a\\opencv-python\\opencv-python\\opencv\\modules\\highgui\\src\\window.cpp:971: error: (-215:Assertion failed) size.width>0 && size.height>0 in function 'cv::imshow'\n",
     "output_type": "error",
     "traceback": [
      "\u001b[1;31m---------------------------------------------------------------------------\u001b[0m",
      "\u001b[1;31merror\u001b[0m                                     Traceback (most recent call last)",
      "Input \u001b[1;32mIn [3]\u001b[0m, in \u001b[0;36m<cell line: 76>\u001b[1;34m()\u001b[0m\n\u001b[0;32m     73\u001b[0m img \u001b[38;5;241m=\u001b[39m cv2\u001b[38;5;241m.\u001b[39mimread(\u001b[38;5;124m\"\u001b[39m\u001b[38;5;124mimages/Osteosarcoma_01.tif\u001b[39m\u001b[38;5;124m\"\u001b[39m, \u001b[38;5;241m0\u001b[39m)\n\u001b[0;32m     74\u001b[0m edges \u001b[38;5;241m=\u001b[39m cv2\u001b[38;5;241m.\u001b[39mCanny(img,\u001b[38;5;241m100\u001b[39m,\u001b[38;5;241m200\u001b[39m)   \u001b[38;5;66;03m#Image, min and max values\u001b[39;00m\n\u001b[1;32m---> 76\u001b[0m \u001b[43mcv2\u001b[49m\u001b[38;5;241;43m.\u001b[39;49m\u001b[43mimshow\u001b[49m\u001b[43m(\u001b[49m\u001b[38;5;124;43m\"\u001b[39;49m\u001b[38;5;124;43mOriginal Image\u001b[39;49m\u001b[38;5;124;43m\"\u001b[39;49m\u001b[43m,\u001b[49m\u001b[43m \u001b[49m\u001b[43mimg\u001b[49m\u001b[43m)\u001b[49m\n\u001b[0;32m     77\u001b[0m cv2\u001b[38;5;241m.\u001b[39mimshow(\u001b[38;5;124m\"\u001b[39m\u001b[38;5;124mCanny\u001b[39m\u001b[38;5;124m\"\u001b[39m, edges)\n\u001b[0;32m     79\u001b[0m cv2\u001b[38;5;241m.\u001b[39mwaitKey(\u001b[38;5;241m0\u001b[39m)          \n",
      "\u001b[1;31merror\u001b[0m: OpenCV(4.7.0) D:\\a\\opencv-python\\opencv-python\\opencv\\modules\\highgui\\src\\window.cpp:971: error: (-215:Assertion failed) size.width>0 && size.height>0 in function 'cv::imshow'\n"
     ]
    }
   ],
   "source": [
    "#Resize images\n",
    "\n",
    "import cv2\n",
    "img = cv2.imread(\"images/RGBY.jpg\", 1)   #Color is BGR not RGB\n",
    "\n",
    "#use cv2.resize. Can specify size or scaling factor.\n",
    "#Inter_cubic or Inter_linear for zooming.\n",
    "#Use INTER_AREA for shrinking\n",
    "#Following xample zooms by 2 times.\n",
    "\n",
    "resized = cv2.resize(img, None, fx=2, fy=2, interpolation = cv2.INTER_CUBIC)\n",
    "\n",
    "cv2.imshow(\"original pic\", img)\n",
    "cv2.imshow(\"resized pic\", resized)\n",
    "cv2.waitKey(0)          \n",
    "cv2.destroyAllWindows() \n",
    "\n",
    "#Pixel values, split and merge channels, \n",
    "\n",
    "import cv2\n",
    "\n",
    "grey_img = cv2.imread(\"images/RGBY.jpg\", 0) \n",
    "img = cv2.imread(\"images/RGBY.jpg\", 1)   #Color is BGR not RGB\n",
    "\n",
    "print(img.shape)     #(586, 415, 3)\n",
    "print(\"Top left\", img[0,0])    #Top left pixel\n",
    "print(\"Top right\", img[0, 400])  # Top right\n",
    "print(\"Bottom Left\", img[580, 0]) # Bottom left\n",
    "print(\"Bottom right\", img[580, 400])  # Bottom right\n",
    "\n",
    "cv2.imshow(\"color pic\", img)\n",
    "cv2.waitKey(0)          \n",
    "cv2.destroyAllWindows() \n",
    "\n",
    "#Split and merging channels\n",
    "#Show individual color channels in the image\n",
    "blue = img[:, :, 0]   #Show only blue pic. (BGR so B=0)\n",
    "green = img[:, :, 1]  #Show only green pixels\n",
    "red = img[:, :, 2]  #red only\n",
    "\n",
    "\n",
    "cv2.imshow(\"red pic\", red)\n",
    "cv2.waitKey(0)          \n",
    "cv2.destroyAllWindows() \n",
    "\n",
    "\n",
    "#Or split all channels at once\n",
    "\n",
    "b,g,r = cv2.split(img)\n",
    "\n",
    "cv2.imshow(\"green pic\", g)\n",
    "cv2.waitKey(0)          \n",
    "cv2.destroyAllWindows() \n",
    "\n",
    "#to merge each image into bgr\n",
    "\n",
    "img_merged = cv2.merge((b,g,r))\n",
    "\n",
    "cv2.imshow(\"merged pic\", img_merged)\n",
    "cv2.waitKey(0)          \n",
    "cv2.destroyAllWindows() \n",
    "\n",
    "\n",
    "#Edge detection:\n",
    "    \n",
    "import cv2\n",
    "\n",
    "img = cv2.imread(\"images/Osteosarcoma_01.tif\", 0)\n",
    "edges = cv2.Canny(img,100,200)   #Image, min and max values\n",
    "\n",
    "cv2.imshow(\"Original Image\", img)\n",
    "cv2.imshow(\"Canny\", edges)\n",
    "\n",
    "cv2.waitKey(0)          \n",
    "cv2.destroyAllWindows() \n"
   ]
  },
  {
   "cell_type": "code",
   "execution_count": null,
   "id": "cb4812d8",
   "metadata": {},
   "outputs": [],
   "source": []
  }
 ],
 "metadata": {
  "kernelspec": {
   "display_name": "Python 3 (ipykernel)",
   "language": "python",
   "name": "python3"
  },
  "language_info": {
   "codemirror_mode": {
    "name": "ipython",
    "version": 3
   },
   "file_extension": ".py",
   "mimetype": "text/x-python",
   "name": "python",
   "nbconvert_exporter": "python",
   "pygments_lexer": "ipython3",
   "version": "3.9.12"
  }
 },
 "nbformat": 4,
 "nbformat_minor": 5
}
